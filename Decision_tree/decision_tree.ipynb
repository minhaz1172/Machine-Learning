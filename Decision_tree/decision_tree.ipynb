{
 "cells": [
  {
   "cell_type": "code",
   "execution_count": 10,
   "metadata": {},
   "outputs": [],
   "source": [
    "#import liabraries\n",
    "import numpy as np\n",
    "import pandas as pd\n",
    "import matplotlib.pyplot as plt\n",
    "from sklearn.metrics import confusion_matrix,accuracy_score,classification_report\n",
    "from sklearn.model_selection import train_test_split\n",
    "from sklearn.tree import DecisionTreeClassifier\n",
    "from sklearn.preprocessing import LabelEncoder\n"
   ]
  },
  {
   "cell_type": "code",
   "execution_count": 11,
   "metadata": {},
   "outputs": [
    {
     "name": "stdout",
     "output_type": "stream",
     "text": [
      "<class 'pandas.core.frame.DataFrame'>\n",
      "RangeIndex: 200 entries, 0 to 199\n",
      "Data columns (total 6 columns):\n",
      " #   Column       Non-Null Count  Dtype  \n",
      "---  ------       --------------  -----  \n",
      " 0   Age          200 non-null    int64  \n",
      " 1   Sex          200 non-null    object \n",
      " 2   BP           200 non-null    object \n",
      " 3   Cholesterol  200 non-null    object \n",
      " 4   Na_to_K      200 non-null    float64\n",
      " 5   Drug         200 non-null    object \n",
      "dtypes: float64(1), int64(1), object(4)\n",
      "memory usage: 9.5+ KB\n"
     ]
    },
    {
     "data": {
      "text/plain": [
       "(None,\n",
       "    Age Sex      BP Cholesterol  Na_to_K   Drug\n",
       " 0   23   F    HIGH        HIGH   25.355  drugY\n",
       " 1   47   M     LOW        HIGH   13.093  drugC\n",
       " 2   47   M     LOW        HIGH   10.114  drugC\n",
       " 3   28   F  NORMAL        HIGH    7.798  drugX\n",
       " 4   61   F     LOW        HIGH   18.043  drugY)"
      ]
     },
     "execution_count": 11,
     "metadata": {},
     "output_type": "execute_result"
    }
   ],
   "source": [
    "# Load the dataset\n",
    "df=pd.read_csv('C:\\AI and ML\\Machine Learning\\Machine-Learning\\Decision_tree\\drug200.csv')\n",
    "\n",
    "# Display basic information about the dataset\n",
    "df.info(),df.head()"
   ]
  },
  {
   "cell_type": "code",
   "execution_count": 12,
   "metadata": {},
   "outputs": [],
   "source": [
    "#have to be converted into numerical ones to be used for modeling. For this, we can make use of LabelEncoder from the Scikit-Learn library.\n",
    "\n",
    "label_encoder = {}\n",
    "\n",
    "for col in ['Sex','BP','Cholesterol','Drug']:\n",
    "    le=LabelEncoder()\n",
    "    '''\n",
    "    le = LabelEncoder()\n",
    "\n",
    "Creates a LabelEncoder object from sklearn.preprocessing.\n",
    "le.fit_transform(df[col])\n",
    "\n",
    "fit() learns the mapping from categorical values to numbers.\n",
    "transform() replaces categorical values with corresponding numbers.\n",
    "df[col] = ...\n",
    "\n",
    "Stores the transformed numerical values back into the dataset.\n",
    "    '''\n",
    "    df[col]=le.fit_transform(df[col]) #which converts categorical data into numerical value\n",
    "    label_encoder[col] = le\n"
   ]
  },
  {
   "cell_type": "code",
   "execution_count": 13,
   "metadata": {},
   "outputs": [],
   "source": [
    "#split data intor features (X) AND Target (Y)\n",
    "'''\n",
    "X = df.drop(columns=['Drug'])\n",
    "Removes the Drug column from the dataset and stores the remaining columns in X.\n",
    "Why?:\n",
    "X represents the features (input variables) used to predict the drug.\n",
    "\n",
    "y = df['Drug']\n",
    "What it does: Selects the Drug column and stores it in y.\n",
    "Why?:\n",
    "y is the target variable (labels) that the model will learn to predict.\n",
    "It contains the drug prescribed based on the features.\n",
    "'''\n",
    "X=df.drop(columns=['Drug']) \n",
    "y=df['Drug']\n",
    "\n",
    "#split data into training and testing data (80% train,20% test)\n",
    "'''\n",
    "Splits X (features) and y (target labels) into two parts:\n",
    "80% for training (X_train, y_train) → used to train the model.\n",
    "20% for testing (X_test, y_test) → used to evaluate model accuracy.\n",
    "test_size=0.2\n",
    "\n",
    "20% of the data goes into the test set, and 80% goes into the training set.\n",
    "If the dataset had 200 samples, then:\n",
    "160 samples → training (X_train, y_train)\n",
    "40 samples → testing (X_test, y_test)\n",
    "'''\n",
    "X_train,X_test,y_train,y_test=train_test_split(X,y,test_size=0.2,random_state=0)\n"
   ]
  },
  {
   "cell_type": "code",
   "execution_count": 14,
   "metadata": {},
   "outputs": [
    {
     "name": "stdout",
     "output_type": "stream",
     "text": [
      "Model accuracy: 1.0\n"
     ]
    }
   ],
   "source": [
    "#train decision tree classifier\n",
    "clf=DecisionTreeClassifier(criterion='entropy',random_state=42)\n",
    "clf.fit(X_train,y_train)\n",
    "\n",
    "#prediction on test data\n",
    "y_pred=clf.predict(X_test)\n",
    "\n",
    "#evaluate the model performance\n",
    "accuracy=accuracy_score(y_test,y_pred)\n",
    "print('Model accuracy:',accuracy)"
   ]
  }
 ],
 "metadata": {
  "kernelspec": {
   "display_name": "Python 3",
   "language": "python",
   "name": "python3"
  },
  "language_info": {
   "codemirror_mode": {
    "name": "ipython",
    "version": 3
   },
   "file_extension": ".py",
   "mimetype": "text/x-python",
   "name": "python",
   "nbconvert_exporter": "python",
   "pygments_lexer": "ipython3",
   "version": "3.11.9"
  }
 },
 "nbformat": 4,
 "nbformat_minor": 2
}
