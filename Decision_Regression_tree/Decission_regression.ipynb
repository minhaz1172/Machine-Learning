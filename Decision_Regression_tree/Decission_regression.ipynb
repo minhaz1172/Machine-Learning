{
 "cells": [
  {
   "cell_type": "code",
   "execution_count": 2,
   "metadata": {},
   "outputs": [],
   "source": [
    "#import liabraies\n",
    "import numpy as np\n",
    "import matplotlib.pyplot as plt\n",
    "import pandas as pd\n",
    "from sklearn.model_selection import train_test_split\n",
    "from sklearn.tree import DecisionTreeRegressor\n",
    "from sklearn.metrics import mean_squared_error\n",
    "\n"
   ]
  },
  {
   "cell_type": "code",
   "execution_count": 3,
   "metadata": {},
   "outputs": [
    {
     "name": "stdout",
     "output_type": "stream",
     "text": [
      "<class 'pandas.core.frame.DataFrame'>\n",
      "RangeIndex: 41202 entries, 0 to 41201\n",
      "Data columns (total 13 columns):\n",
      " #   Column                 Non-Null Count  Dtype  \n",
      "---  ------                 --------------  -----  \n",
      " 0   VendorID               41202 non-null  int64  \n",
      " 1   passenger_count        41202 non-null  int64  \n",
      " 2   trip_distance          41202 non-null  float64\n",
      " 3   RatecodeID             41202 non-null  int64  \n",
      " 4   store_and_fwd_flag     41202 non-null  int64  \n",
      " 5   PULocationID           41202 non-null  int64  \n",
      " 6   DOLocationID           41202 non-null  int64  \n",
      " 7   payment_type           41202 non-null  int64  \n",
      " 8   fare_amount            41202 non-null  float64\n",
      " 9   mta_tax                41202 non-null  float64\n",
      " 10  tolls_amount           41202 non-null  float64\n",
      " 11  improvement_surcharge  41202 non-null  int64  \n",
      " 12  tip_amount             41202 non-null  float64\n",
      "dtypes: float64(5), int64(8)\n",
      "memory usage: 4.1 MB\n"
     ]
    },
    {
     "data": {
      "text/plain": [
       "(None,\n",
       "    VendorID  passenger_count  trip_distance  RatecodeID  store_and_fwd_flag  \\\n",
       " 0         2                1          17.63           2                   1   \n",
       " 1         2                1          19.52           2                   1   \n",
       " 2         2                1          17.81           2                   1   \n",
       " 3         2                2          19.30           2                   1   \n",
       " 4         2                1          18.75           2                   1   \n",
       " \n",
       "    PULocationID  DOLocationID  payment_type  fare_amount  mta_tax  \\\n",
       " 0           132           164             1         70.0      0.5   \n",
       " 1           132           236             1         70.0      0.5   \n",
       " 2           132            48             1         70.0      0.5   \n",
       " 3           132           148             1         70.0      0.5   \n",
       " 4           132           234             1         70.0      0.5   \n",
       " \n",
       "    tolls_amount  improvement_surcharge  tip_amount  \n",
       " 0          6.94                      1       16.54  \n",
       " 1          6.94                      1       16.19  \n",
       " 2          6.94                      1       12.00  \n",
       " 3          0.00                      1        5.00  \n",
       " 4          6.94                      1       10.00  )"
      ]
     },
     "execution_count": 3,
     "metadata": {},
     "output_type": "execute_result"
    }
   ],
   "source": [
    "'''\n",
    "In this exercise session you will use a real dataset to train a regression tree model. The dataset includes information about taxi tip and was collected and provided to the NYC Taxi and Limousine Commission (TLC) by technology providers authorized under the Taxicab & Livery Passenger Enhancement Programs (TPEP/LPEP). You will use the trained model to predict the amount of tip paid.\n",
    "     # read the input data\n",
    "url = 'https://cf-courses-data.s3.us.cloud-object-storage.appdomain.cloud/pu9kbeSaAtRZ7RxdJKX9_A/yellow-tripdata.csv'\n",
    "\n",
    "\n",
    "The dataset contains the following relevant columns:\n",
    "\n",
    "VendorID: ID of the vendor\n",
    "passenger_count: Number of passengers\n",
    "trip_distance: Distance of the trip\n",
    "RatecodeID: Rate code of the trip\n",
    "store_and_fwd_flag: Whether the trip data was stored before forwarding\n",
    "PULocationID & DOLocationID: Pickup and drop-off locations\n",
    "payment_type: Payment method (1 = Credit card, 2 = Cash, etc.)\n",
    "fare_amount: Fare charged for the trip\n",
    "mta_tax: NYC tax for the trip\n",
    "tolls_amount: Toll charges during the trip\n",
    "improvement_surcharge: Additional surcharge\n",
    "tip_amount: Tip paid by the passenger (our target variable)\n",
    "'''\n",
    "#load the dataset\n",
    "url='C:\\AI and ML\\Machine Learning\\Machine-Learning\\Decision_Regression_tree\\yellow_tripdata.csv'\n",
    "\n",
    "df = pd.read_csv(url)\n",
    "# Display basic information about the dataset\n",
    "df.info(),df.head()\n"
   ]
  }
 ],
 "metadata": {
  "kernelspec": {
   "display_name": "Python 3",
   "language": "python",
   "name": "python3"
  },
  "language_info": {
   "codemirror_mode": {
    "name": "ipython",
    "version": 3
   },
   "file_extension": ".py",
   "mimetype": "text/x-python",
   "name": "python",
   "nbconvert_exporter": "python",
   "pygments_lexer": "ipython3",
   "version": "3.11.9"
  }
 },
 "nbformat": 4,
 "nbformat_minor": 2
}
