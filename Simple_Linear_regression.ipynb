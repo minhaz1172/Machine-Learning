{
 "cells": [
  {
   "cell_type": "markdown",
   "metadata": {},
   "source": [
    "```markdown\n",
    "\n",
    "# Linear Regression: CO2 Emissions vs Engine Size\n",
    "\n",
    "## Problem Statement\n",
    "We aim to create a linear regression model to predict CO2 emissions based on engine size using the given dataset.\n",
    "\n",
    "CO2 Emission=a0+a1*EngineSize\n",
    "\n",
    "## Dataset\n",
    "Source: [FuelConsumptionCo2.csv](https://cf-courses-data.s3.us.cloud-object-storage.appdomain.cloud/IBMDeveloperSkillsNetwork-ML0101EN-SkillsNetwork/labs/Module%202/data/FuelConsumptionCo2.csv)\n",
    "\n",
    "## Steps\n",
    "1. Import necessary libraries\n",
    "2. Load and explore the dataset\n",
    "3. Prepare the data for training\n",
    "4. Train a linear regression model\n",
    "5. Evaluate the model\n",
    "6. Visualize the results\n"
   ]
  },
  {
   "cell_type": "code",
   "execution_count": 14,
   "metadata": {},
   "outputs": [],
   "source": [
    "#step-1:import necessary libraries\n",
    "import numpy as np #for numerical operation\n",
    "import pandas as pd #for data manipulation\n",
    "import matplotlib.pyplot as plt #for data visualization\n",
    "\n",
    "from sklearn.metrics import mean_squared_error,r2_score #for model evaluation\n",
    "from sklearn.linear_model import LinearRegression #for linear regression model\n",
    "from sklearn.model_selection import train_test_split #for splitting the data into training and testing data\n",
    "\n"
   ]
  },
  {
   "cell_type": "code",
   "execution_count": 15,
   "metadata": {},
   "outputs": [
    {
     "name": "stdout",
     "output_type": "stream",
     "text": [
      "   MODELYEAR   MAKE       MODEL VEHICLECLASS  ENGINESIZE  CYLINDERS  \\\n",
      "0       2014  ACURA         ILX      COMPACT         2.0          4   \n",
      "1       2014  ACURA         ILX      COMPACT         2.4          4   \n",
      "2       2014  ACURA  ILX HYBRID      COMPACT         1.5          4   \n",
      "3       2014  ACURA     MDX 4WD  SUV - SMALL         3.5          6   \n",
      "4       2014  ACURA     RDX AWD  SUV - SMALL         3.5          6   \n",
      "\n",
      "  TRANSMISSION FUELTYPE  FUELCONSUMPTION_CITY  FUELCONSUMPTION_HWY  \\\n",
      "0          AS5        Z                   9.9                  6.7   \n",
      "1           M6        Z                  11.2                  7.7   \n",
      "2          AV7        Z                   6.0                  5.8   \n",
      "3          AS6        Z                  12.7                  9.1   \n",
      "4          AS6        Z                  12.1                  8.7   \n",
      "\n",
      "   FUELCONSUMPTION_COMB  FUELCONSUMPTION_COMB_MPG  CO2EMISSIONS  \n",
      "0                   8.5                        33           196  \n",
      "1                   9.6                        29           221  \n",
      "2                   5.9                        48           136  \n",
      "3                  11.1                        25           255  \n",
      "4                  10.6                        27           244  \n"
     ]
    }
   ],
   "source": [
    "#step-2:load the data\n",
    "url = \"https://cf-courses-data.s3.us.cloud-object-storage.appdomain.cloud/IBMDeveloperSkillsNetwork-ML0101EN-SkillsNetwork/labs/Module%202/data/FuelConsumptionCo2.csv\"\n",
    "df = pd.read_csv(url)\n",
    "print(df.head())"
   ]
  }
 ],
 "metadata": {
  "kernelspec": {
   "display_name": "Python 3",
   "language": "python",
   "name": "python3"
  },
  "language_info": {
   "codemirror_mode": {
    "name": "ipython",
    "version": 3
   },
   "file_extension": ".py",
   "mimetype": "text/x-python",
   "name": "python",
   "nbconvert_exporter": "python",
   "pygments_lexer": "ipython3",
   "version": "3.11.9"
  }
 },
 "nbformat": 4,
 "nbformat_minor": 2
}
