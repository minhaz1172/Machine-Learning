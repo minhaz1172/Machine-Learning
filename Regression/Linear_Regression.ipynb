{
 "cells": [
  {
   "cell_type": "code",
   "execution_count": null,
   "metadata": {},
   "outputs": [],
   "source": [
    "#step-1:import necessary libraries\n",
    "import numpy as np #for numerical operation\n",
    "import pandas as pd #for data manipulation\n",
    "import matplotlib.pyplot as plt #for data visualization\n",
    "\n",
    "from sklearn.metrics import mean_squared_error,r2_score #for model evaluation\n",
    "from sklearn.linear_model import LinearRegression #for linear regression model\n",
    "from sklearn.model_selection import train_test_split #for splitting the data into training and testing data\n",
    "\n"
   ]
  },
  {
   "cell_type": "markdown",
   "metadata": {},
   "source": [
    "```markdown\n",
    "\n",
    "# Linear Regression: CO2 Emissions vs Engine Size\n",
    "\n",
    "## Problem Statement\n",
    "We aim to create a linear regression model to predict CO2 emissions based on engine size using the given dataset.\n",
    "\n",
    "CO2 Emission=a0+a1*EngineSize\n",
    "\n",
    "## Dataset\n",
    "Source: [FuelConsumptionCo2.csv](https://cf-courses-data.s3.us.cloud-object-storage.appdomain.cloud/IBMDeveloperSkillsNetwork-ML0101EN-SkillsNetwork/labs/Module%202/data/FuelConsumptionCo2.csv)\n",
    "\n",
    "## Steps\n",
    "1. Import necessary libraries\n",
    "2. Load and explore the dataset\n",
    "3. Prepare the data for training\n",
    "4. Train a linear regression model\n",
    "5. Evaluate the model\n",
    "6. Visualize the results\n"
   ]
  }
 ],
 "metadata": {
  "language_info": {
   "name": "python"
  }
 },
 "nbformat": 4,
 "nbformat_minor": 2
}
